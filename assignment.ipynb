{
 "cells": [
  {
   "cell_type": "markdown",
   "id": "5e9ce43e-acad-49e8-bbd5-b2a7b84adb1f",
   "metadata": {},
   "source": [
    "Create a list of your favorite movies and print it. Then, append a new movie to the list and\r\n",
    "print the updated list."
   ]
  },
  {
   "cell_type": "markdown",
   "id": "ccdf4d20-1a9a-4bd0-8ff3-468e27113643",
   "metadata": {},
   "source": [
    "### First Assignment "
   ]
  },
  {
   "cell_type": "code",
   "execution_count": 1,
   "id": "99cc4338-799a-4a19-a1a6-478308b3a4ad",
   "metadata": {},
   "outputs": [
    {
     "data": {
      "text/plain": [
       "['dark', 'spider man', 'halk', 'bat man']"
      ]
     },
     "execution_count": 1,
     "metadata": {},
     "output_type": "execute_result"
    }
   ],
   "source": [
    "list_movies=['dark','spider man','halk','bat man']\n",
    "list_movies"
   ]
  },
  {
   "cell_type": "code",
   "execution_count": 2,
   "id": "e4f098c9-0765-4aa9-83e5-38c06ea2dbc4",
   "metadata": {},
   "outputs": [],
   "source": [
    "list_movies.append('wonder women')"
   ]
  },
  {
   "cell_type": "code",
   "execution_count": 3,
   "id": "ad4cadad-37e3-49c8-ac1d-d0192413b229",
   "metadata": {},
   "outputs": [
    {
     "data": {
      "text/plain": [
       "['dark', 'spider man', 'halk', 'bat man', 'wonder women']"
      ]
     },
     "execution_count": 3,
     "metadata": {},
     "output_type": "execute_result"
    }
   ],
   "source": [
    "list_movies"
   ]
  },
  {
   "cell_type": "markdown",
   "id": "c24cade7-e45f-4d7e-8bb4-c3ed64b292ea",
   "metadata": {},
   "source": [
    "Create a list of integers from 1 to 10 and print it. Calculate the sum of all the numbers in\n",
    "the list and print the result."
   ]
  },
  {
   "cell_type": "code",
   "execution_count": 6,
   "id": "075bc3bc-4ba0-4f50-936a-97efaa0dd90f",
   "metadata": {},
   "outputs": [
    {
     "data": {
      "text/plain": [
       "[1, 2, 3, 4, 5, 6, 7, 8, 9, 10]"
      ]
     },
     "execution_count": 6,
     "metadata": {},
     "output_type": "execute_result"
    }
   ],
   "source": [
    "list_int=list(range(1,11))\n",
    "list_int"
   ]
  },
  {
   "cell_type": "code",
   "execution_count": 7,
   "id": "f2ac715c-4d55-4c22-a8b6-6f19655e9bd1",
   "metadata": {},
   "outputs": [
    {
     "data": {
      "text/plain": [
       "55"
      ]
     },
     "execution_count": 7,
     "metadata": {},
     "output_type": "execute_result"
    }
   ],
   "source": [
    "total_sum=sum(list_int)\n",
    "total_sum"
   ]
  },
  {
   "cell_type": "markdown",
   "id": "219ccb2c-531b-4783-a8dc-fdea23ab5130",
   "metadata": {},
   "source": [
    "Create a list of mixed data types including strings, integers, and floats and print it. Remove\n",
    "the first element from the list and print the modified list."
   ]
  },
  {
   "cell_type": "code",
   "execution_count": 8,
   "id": "7d8f59c5-a692-40f1-a365-5d38af347371",
   "metadata": {},
   "outputs": [
    {
     "data": {
      "text/plain": [
       "['Hello', 'Anu', 22, 77, 3, 9, 10.11, 3.6, 'raz']"
      ]
     },
     "execution_count": 8,
     "metadata": {},
     "output_type": "execute_result"
    }
   ],
   "source": [
    "list_mixed=['Hello','Anu',22,77,3,9,10.11,3.6,'raz']\n",
    "list_mixed"
   ]
  },
  {
   "cell_type": "code",
   "execution_count": 9,
   "id": "d7be8e30-a68f-486b-9401-fbb5b97c90a3",
   "metadata": {},
   "outputs": [
    {
     "data": {
      "text/plain": [
       "'Hello'"
      ]
     },
     "execution_count": 9,
     "metadata": {},
     "output_type": "execute_result"
    }
   ],
   "source": [
    "list_mixed.pop(0)"
   ]
  },
  {
   "cell_type": "code",
   "execution_count": 10,
   "id": "5b6aa619-9b8d-4a08-b67c-be3a4c56c654",
   "metadata": {},
   "outputs": [
    {
     "data": {
      "text/plain": [
       "['Anu', 22, 77, 3, 9, 10.11, 3.6, 'raz']"
      ]
     },
     "execution_count": 10,
     "metadata": {},
     "output_type": "execute_result"
    }
   ],
   "source": [
    "list_mixed"
   ]
  },
  {
   "cell_type": "markdown",
   "id": "2297eb6b-02b3-47d6-85b5-c17e8d825798",
   "metadata": {},
   "source": [
    "Create a tuple containing the names of the days of the week and print it. Access and print\n",
    "the name of the third day."
   ]
  },
  {
   "cell_type": "code",
   "execution_count": 12,
   "id": "dbf0bbfa-a699-4fd4-aadf-ca5d3c3e722c",
   "metadata": {},
   "outputs": [
    {
     "data": {
      "text/plain": [
       "('sunday', 'monday', 'tuesday', 'wednesday', 'thrusday', 'friday', 'Saturday')"
      ]
     },
     "execution_count": 12,
     "metadata": {},
     "output_type": "execute_result"
    }
   ],
   "source": [
    "tuples=(\"sunday\",\"monday\",\"tuesday\",\"wednesday\",\"thrusday\",\"friday\",\"Saturday\")\n",
    "tuples"
   ]
  },
  {
   "cell_type": "code",
   "execution_count": 13,
   "id": "59525b4f-5d0f-4820-a9d9-d60d0f10da2c",
   "metadata": {},
   "outputs": [
    {
     "data": {
      "text/plain": [
       "'tuesday'"
      ]
     },
     "execution_count": 13,
     "metadata": {},
     "output_type": "execute_result"
    }
   ],
   "source": [
    "tuples[2]"
   ]
  },
  {
   "cell_type": "markdown",
   "id": "cef12315-8379-447c-af77-2c239eb32718",
   "metadata": {},
   "source": [
    "Create a tuple of your favorite colors and print it. Check if a certain color is present in the\n",
    "tuple and print the result."
   ]
  },
  {
   "cell_type": "code",
   "execution_count": 14,
   "id": "ea73aec6-ef79-4ae2-b575-dcbc4ef70676",
   "metadata": {},
   "outputs": [
    {
     "data": {
      "text/plain": [
       "('green', 'black', 'red', 'yellow', 'purple', 'pink', 'white')"
      ]
     },
     "execution_count": 14,
     "metadata": {},
     "output_type": "execute_result"
    }
   ],
   "source": [
    "fav_color=('green','black','red','yellow','purple','pink','white')\n",
    "fav_color"
   ]
  },
  {
   "cell_type": "code",
   "execution_count": 27,
   "id": "b27d8a0a-868a-4078-aa04-1a3a9bbbc40e",
   "metadata": {},
   "outputs": [
    {
     "data": {
      "text/plain": [
       "tuple"
      ]
     },
     "execution_count": 27,
     "metadata": {},
     "output_type": "execute_result"
    }
   ],
   "source": [
    "type(fav_color)"
   ]
  },
  {
   "cell_type": "code",
   "execution_count": 17,
   "id": "287f2661-030a-4c82-a0a2-760861f571e0",
   "metadata": {},
   "outputs": [
    {
     "data": {
      "text/plain": [
       "True"
      ]
     },
     "execution_count": 17,
     "metadata": {},
     "output_type": "execute_result"
    }
   ],
   "source": [
    "check_color=\"purple\"\n",
    "is_present_color=check_color in fav_color\n",
    "is_present_color"
   ]
  },
  {
   "cell_type": "code",
   "execution_count": 18,
   "id": "a095f070-584e-4065-9359-49b3c64848f2",
   "metadata": {},
   "outputs": [
    {
     "data": {
      "text/plain": [
       "False"
      ]
     },
     "execution_count": 18,
     "metadata": {},
     "output_type": "execute_result"
    }
   ],
   "source": [
    "check_color=\"brown\"\n",
    "is_present_color=check_color in fav_color\n",
    "is_present_color"
   ]
  },
  {
   "cell_type": "markdown",
   "id": "f4350b94-4b8d-4564-aea1-14ab3db65a53",
   "metadata": {},
   "source": [
    "Create a dictionary representing the information of a book with keys \"title\", \"author\", and\n",
    "\"year\" and print it. Update the year of the book and print the updated dictionary."
   ]
  },
  {
   "cell_type": "code",
   "execution_count": 35,
   "id": "61817495-074c-4f3d-bd44-73ddf138c7e1",
   "metadata": {},
   "outputs": [
    {
     "data": {
      "text/plain": [
       "{'title': 'rich dad poor dad', 'author': 'Ram bahadur', 'year': 1999}"
      ]
     },
     "execution_count": 35,
     "metadata": {},
     "output_type": "execute_result"
    }
   ],
   "source": [
    "book_info={\"title\":\"rich dad poor dad\",\n",
    "          \"author\":\"Ram bahadur\",\n",
    "          \"year\":1999}\n",
    "book_info"
   ]
  },
  {
   "cell_type": "code",
   "execution_count": 36,
   "id": "79124f73-6843-40f4-bafe-571c418b479e",
   "metadata": {},
   "outputs": [],
   "source": [
    "book_info['year']=2005"
   ]
  },
  {
   "cell_type": "code",
   "execution_count": 37,
   "id": "e78bd9be-9fda-4829-83ff-fce2c67ce059",
   "metadata": {},
   "outputs": [
    {
     "data": {
      "text/plain": [
       "{'title': 'rich dad poor dad', 'author': 'Ram bahadur', 'year': 2005}"
      ]
     },
     "execution_count": 37,
     "metadata": {},
     "output_type": "execute_result"
    }
   ],
   "source": [
    "book_info"
   ]
  },
  {
   "cell_type": "code",
   "execution_count": 38,
   "id": "c05bba60-f6a5-4100-b562-5c4f9111ac07",
   "metadata": {},
   "outputs": [
    {
     "data": {
      "text/plain": [
       "dict_keys(['title', 'author', 'year'])"
      ]
     },
     "execution_count": 38,
     "metadata": {},
     "output_type": "execute_result"
    }
   ],
   "source": [
    "book_info.keys()"
   ]
  },
  {
   "cell_type": "markdown",
   "id": "a611c34f-c597-4d1b-b4fb-be55201eeb27",
   "metadata": {},
   "source": [
    "Create a dictionary containing the names of fruits as keys and their corresponding colors\n",
    "as values and print it. Add a new fruit-color pair to the dictionary and print the updated\n",
    "dictionary."
   ]
  },
  {
   "cell_type": "markdown",
   "id": "dabab1aa-e3a3-42d4-b0f9-c61c339d7ca1",
   "metadata": {},
   "source": [
    "fruit_color={\"apple\":\"red\",\n",
    "            \"orange\":\"yellow\",\n",
    "            \"mango\":\"green\",\n",
    "            \"banana\":\"pink\"}\n",
    "fruit_color"
   ]
  },
  {
   "cell_type": "code",
   "execution_count": 40,
   "id": "168267a7-7a5e-4c5e-aef0-dbcf4e75ec8c",
   "metadata": {},
   "outputs": [],
   "source": [
    "fruit_color[\"grapes\"]=\"purple\""
   ]
  },
  {
   "cell_type": "code",
   "execution_count": 41,
   "id": "dc61ce8c-656c-4274-80ea-ff86a47f9074",
   "metadata": {},
   "outputs": [
    {
     "data": {
      "text/plain": [
       "{'apple': 'red',\n",
       " 'orange': 'yellow',\n",
       " 'mango': 'green',\n",
       " 'banana': 'pink',\n",
       " 'grapes': 'purple'}"
      ]
     },
     "execution_count": 41,
     "metadata": {},
     "output_type": "execute_result"
    }
   ],
   "source": [
    "fruit_color"
   ]
  },
  {
   "cell_type": "code",
   "execution_count": 42,
   "id": "c173f550-aed0-4f3e-85e3-d7e08c9bebb9",
   "metadata": {},
   "outputs": [
    {
     "data": {
      "text/plain": [
       "dict_keys(['apple', 'orange', 'mango', 'banana', 'grapes'])"
      ]
     },
     "execution_count": 42,
     "metadata": {},
     "output_type": "execute_result"
    }
   ],
   "source": [
    "fruit_color.keys()"
   ]
  },
  {
   "cell_type": "code",
   "execution_count": 43,
   "id": "468a9848-8f24-4c94-b84b-aa040dd72d99",
   "metadata": {},
   "outputs": [
    {
     "data": {
      "text/plain": [
       "dict_values(['red', 'yellow', 'green', 'pink', 'purple'])"
      ]
     },
     "execution_count": 43,
     "metadata": {},
     "output_type": "execute_result"
    }
   ],
   "source": [
    "fruit_color.values()"
   ]
  },
  {
   "cell_type": "markdown",
   "id": "ab35588b-1158-4c53-9402-6a2e88a493a3",
   "metadata": {},
   "source": [
    "Create a dictionary representing the population of different cities with keys as city names\n",
    "and values as population numbers and print it. Remove a city from the dictionary and print\n",
    "the modified dictionary."
   ]
  },
  {
   "cell_type": "code",
   "execution_count": 44,
   "id": "02715616-cb0b-4e17-b5fc-282b3eda2edb",
   "metadata": {},
   "outputs": [
    {
     "data": {
      "text/plain": [
       "{'ktm': 20000, 'pkhr': 30000, 'delhi': 40000, 'mumbai': 10000}"
      ]
     },
     "execution_count": 44,
     "metadata": {},
     "output_type": "execute_result"
    }
   ],
   "source": [
    "city_pop={\"ktm\":20000,\n",
    "         \"pkhr\":30000,\n",
    "         \"delhi\":40000,\n",
    "         \"mumbai\":10000}\n",
    "city_pop"
   ]
  },
  {
   "cell_type": "code",
   "execution_count": 45,
   "id": "a82b1905-f513-49e1-a083-8c9f66df38ba",
   "metadata": {},
   "outputs": [
    {
     "data": {
      "text/plain": [
       "dict_keys(['ktm', 'pkhr', 'delhi', 'mumbai'])"
      ]
     },
     "execution_count": 45,
     "metadata": {},
     "output_type": "execute_result"
    }
   ],
   "source": [
    "city_pop.keys()"
   ]
  },
  {
   "cell_type": "code",
   "execution_count": 46,
   "id": "f7f83c99-0be1-4d0a-93d2-481e2335c990",
   "metadata": {},
   "outputs": [
    {
     "data": {
      "text/plain": [
       "dict_values([20000, 30000, 40000, 10000])"
      ]
     },
     "execution_count": 46,
     "metadata": {},
     "output_type": "execute_result"
    }
   ],
   "source": [
    "city_pop.values()"
   ]
  },
  {
   "cell_type": "code",
   "execution_count": 48,
   "id": "bda3ab04-8889-4a1c-9b30-2f97c1727b46",
   "metadata": {},
   "outputs": [],
   "source": [
    "removed_city=city_pop.pop(\"delhi\")"
   ]
  },
  {
   "cell_type": "code",
   "execution_count": 49,
   "id": "32d803bc-3ec6-430e-a7c7-894e91add859",
   "metadata": {},
   "outputs": [
    {
     "data": {
      "text/plain": [
       "{'ktm': 20000, 'pkhr': 30000, 'mumbai': 10000}"
      ]
     },
     "execution_count": 49,
     "metadata": {},
     "output_type": "execute_result"
    }
   ],
   "source": [
    "city_pop"
   ]
  },
  {
   "cell_type": "code",
   "execution_count": null,
   "id": "c7b2a5c8-7199-4546-9d27-fc03ded015d4",
   "metadata": {},
   "outputs": [],
   "source": []
  }
 ],
 "metadata": {
  "kernelspec": {
   "display_name": "Python 3 (ipykernel)",
   "language": "python",
   "name": "python3"
  },
  "language_info": {
   "codemirror_mode": {
    "name": "ipython",
    "version": 3
   },
   "file_extension": ".py",
   "mimetype": "text/x-python",
   "name": "python",
   "nbconvert_exporter": "python",
   "pygments_lexer": "ipython3",
   "version": "3.11.7"
  }
 },
 "nbformat": 4,
 "nbformat_minor": 5
}
